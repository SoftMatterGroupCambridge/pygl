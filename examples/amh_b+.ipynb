{
 "cells": [
  {
   "cell_type": "code",
   "execution_count": 1,
   "id": "3fd14445-eae7-44be-a6d0-ee579f350d22",
   "metadata": {},
   "outputs": [],
   "source": [
    "import numpy as np\n",
    "import pygl, sys, time\n",
    "import scipy as sp\n",
    "from scipy.io import savemat, loadmat\n",
    "fft2  = np.fft.fft2\n",
    "randn = np.random.randn\n",
    "from tqdm import trange\n",
    " \n"
   ]
  },
  {
   "cell_type": "code",
   "execution_count": 2,
   "id": "ff9c0b8a-0abc-4af3-bbc2-9aa088f24bb2",
   "metadata": {},
   "outputs": [],
   "source": [
    "Ng, nfac, kh = 32, 1, -.001"
   ]
  },
  {
   "cell_type": "code",
   "execution_count": 3,
   "id": "19b6f3e4-999d-4068-8589-f043606c9ae6",
   "metadata": {},
   "outputs": [],
   "source": [
    "class activeModels():\n",
    "    '''Class to solve a active models'''\n",
    "    def __init__(self, Nt, dt, dd, rhs):\n",
    "        self.Nt = Nt\n",
    "        self.dt = dt\n",
    "        self.dd = dd\n",
    "        \n",
    "        self.rhs = rhs \n",
    "        self.XX  = np.zeros((int(self.dd+1), Ng*Ng)) \n",
    "        \n",
    "    def integrate(self, u):\n",
    "        '''  simulates the equation and plots it at different instants '''\n",
    "        ii=0\n",
    "        #fW = open('N%s_z%2.2f_l%2.2f_kh%4.4f_u%2.2f_a%4.4f_fd.txt'%(Ng, zeta, ll, kh, phi0, a), 'w')\n",
    "        #fW.write('Ng%s_zeta%s_ ll%s_kh%s_phi0%s_a%s_b%s_k%s_dt%s_nfac%s_Ng%s_Nt%s \\n'%(Ng, zeta, ll, kh, phi0, a, b,k, dt, nfac, Ng, Nt))\n",
    "        t1 = time.perf_counter()\n",
    "        \n",
    "        for i in trange(self.Nt):          \n",
    "            if time.perf_counter() - t1 > 42000:\n",
    "                break    \n",
    "            u = u + self.dt*self.rhs(u)\n",
    "            if i%(int(self.Nt/self.dd))==0:  \n",
    "                self.XX[ii,:] = u.flatten()\n",
    "                ii += 1 \n",
    "                #fW.write('%s\\n'%u.flatten() )\n",
    "    \n",
    "\n",
    "# now set-up the simulation \n",
    "a, b, k  = -.25, .25, 1\n",
    "zeta, ll = 2, -2\n",
    "phi0 = .6\n",
    "\n",
    "dim, h, st = 2, 1, 5\n",
    "Nt, dt, dd = int(1e4), .01, 1000 \n",
    "Ng2 = Ng*Ng\n",
    "\n",
    "eta  = 1\n",
    "grid = {\"dim\":dim, \"Nx\":Ng, \"Ny\":Ng}\n",
    "ff = pygl.utils.FiniteDifference(grid)\n",
    "stokes = pygl.solvers.Stokes(eta, grid)\n",
    "\n",
    "Teff=0.1#nfac = Ng*Ng, np.sqrt(2*Teff/(h*h*dt))\n",
    "nfac=2\n",
    "\n",
    "\n",
    "def rhs(u):\n",
    "    '''\n",
    "    returns the right hand side of \\dot{phi} in active model H\n",
    "    \\dot{u} = Δ(a*u + b*u*u*u + kΔu + λ(∇u)^2) - v.∇u (solve for fluid)\n",
    "    '''\n",
    "    #print( t, np.max(u))\n",
    "    \n",
    "    u_x=ff.diffx(u);  u_y=ff.diffy(u);  upp=ff.laplacian(u);  \n",
    "    gp2 = 0.5*(u_x*u_x + u_y*u_y)\n",
    "    chemPot = -.25*u + .25*u*u*u - upp + 2*ll*gp2\n",
    "    jx  = -ff.diffx1(chemPot) + nfac*randn(Ng,Ng) + zeta*upp*u_x \n",
    "    jy  = -ff.diffy1(chemPot) + nfac*randn(Ng,Ng) + zeta*upp*u_y \n",
    "    du  = ff.diffx1(jx) + ff.diffy1(jy)\n",
    "\n",
    "    sxx = u_x*u_x-gp2;  sxy=u_x*u_y;  syy=u_y*u_y-gp2;\n",
    "    fx  = ff.diffx(sxx) + ff.diffy(sxy)\n",
    "    fy  = ff.diffx(sxy) + ff.diffy(syy)\n",
    "\n",
    "    stokes.solve((fft2(fx), fft2(fy)))\n",
    "    return -du - kh*(u_x*stokes.vx + u_y*stokes.vy)"
   ]
  },
  {
   "cell_type": "code",
   "execution_count": 4,
   "id": "fab627b6-513b-46ac-968b-55a0c046afcb",
   "metadata": {},
   "outputs": [
    {
     "name": "stderr",
     "output_type": "stream",
     "text": [
      "100%|███████████████████████████████████| 10000/10000 [00:01<00:00, 5565.74it/s]\n"
     ]
    }
   ],
   "source": [
    "am = activeModels(Nt, dt, dd, rhs)\n",
    "u = phi0 + .0*(1-2*np.random.random((Ng, Ng)))\n",
    "\n",
    "# run the simulation and save data\n",
    "t1 = time.perf_counter()\n",
    "am.integrate(u)\n",
    "savemat('N%s_z%2.2f_l%2.2f_kh%4.4f_u%2.2f_nf%4.4f_ambp.mat'%(Ng, zeta, ll, kh, phi0, nfac), {'X':am.XX, 'a':a, 'b':b, 'k':k, 'Ng':Ng, 'Nt':am.Nt, 'dt':dt, 'nfac':nfac, 'Tsim':time.perf_counter()-t1})"
   ]
  },
  {
   "cell_type": "code",
   "execution_count": null,
   "id": "e1343148-2050-42d1-bc4f-bd5cc4411bc4",
   "metadata": {},
   "outputs": [],
   "source": []
  },
  {
   "cell_type": "code",
   "execution_count": null,
   "id": "7a6044f0-cafc-483b-991d-bba77b58b22e",
   "metadata": {},
   "outputs": [],
   "source": []
  }
 ],
 "metadata": {
  "kernelspec": {
   "display_name": "Python 3 (ipykernel)",
   "language": "python",
   "name": "python3"
  },
  "language_info": {
   "codemirror_mode": {
    "name": "ipython",
    "version": 3
   },
   "file_extension": ".py",
   "mimetype": "text/x-python",
   "name": "python",
   "nbconvert_exporter": "python",
   "pygments_lexer": "ipython3",
   "version": "3.10.9"
  }
 },
 "nbformat": 4,
 "nbformat_minor": 5
}
